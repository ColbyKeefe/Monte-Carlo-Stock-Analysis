{
 "cells": [
  {
   "cell_type": "code",
   "execution_count": 2,
   "id": "0550879b",
   "metadata": {},
   "outputs": [
    {
     "name": "stdout",
     "output_type": "stream",
     "text": [
      "Requirement already satisfied: yfinance in /Users/colbykeefe/opt/anaconda3/lib/python3.9/site-packages (0.2.12)\n",
      "Requirement already satisfied: cryptography>=3.3.2 in /Users/colbykeefe/opt/anaconda3/lib/python3.9/site-packages (from yfinance) (3.4.8)\n",
      "Requirement already satisfied: pandas>=1.3.0 in /Users/colbykeefe/opt/anaconda3/lib/python3.9/site-packages (from yfinance) (1.4.2)\n",
      "Requirement already satisfied: requests>=2.26 in /Users/colbykeefe/opt/anaconda3/lib/python3.9/site-packages (from yfinance) (2.27.1)\n",
      "Requirement already satisfied: html5lib>=1.1 in /Users/colbykeefe/opt/anaconda3/lib/python3.9/site-packages (from yfinance) (1.1)\n",
      "Requirement already satisfied: pytz>=2022.5 in /Users/colbykeefe/opt/anaconda3/lib/python3.9/site-packages (from yfinance) (2022.7.1)\n",
      "Requirement already satisfied: frozendict>=2.3.4 in /Users/colbykeefe/opt/anaconda3/lib/python3.9/site-packages (from yfinance) (2.3.5)\n",
      "Requirement already satisfied: lxml>=4.9.1 in /Users/colbykeefe/opt/anaconda3/lib/python3.9/site-packages (from yfinance) (4.9.2)\n",
      "Requirement already satisfied: beautifulsoup4>=4.11.1 in /Users/colbykeefe/opt/anaconda3/lib/python3.9/site-packages (from yfinance) (4.11.1)\n",
      "Requirement already satisfied: multitasking>=0.0.7 in /Users/colbykeefe/opt/anaconda3/lib/python3.9/site-packages (from yfinance) (0.0.11)\n",
      "Requirement already satisfied: appdirs>=1.4.4 in /Users/colbykeefe/opt/anaconda3/lib/python3.9/site-packages (from yfinance) (1.4.4)\n",
      "Requirement already satisfied: numpy>=1.16.5 in /Users/colbykeefe/opt/anaconda3/lib/python3.9/site-packages (from yfinance) (1.21.5)\n",
      "Requirement already satisfied: soupsieve>1.2 in /Users/colbykeefe/opt/anaconda3/lib/python3.9/site-packages (from beautifulsoup4>=4.11.1->yfinance) (2.3.1)\n",
      "Requirement already satisfied: cffi>=1.12 in /Users/colbykeefe/opt/anaconda3/lib/python3.9/site-packages (from cryptography>=3.3.2->yfinance) (1.15.0)\n",
      "Requirement already satisfied: pycparser in /Users/colbykeefe/opt/anaconda3/lib/python3.9/site-packages (from cffi>=1.12->cryptography>=3.3.2->yfinance) (2.21)\n",
      "Requirement already satisfied: six>=1.9 in /Users/colbykeefe/opt/anaconda3/lib/python3.9/site-packages (from html5lib>=1.1->yfinance) (1.16.0)\n",
      "Requirement already satisfied: webencodings in /Users/colbykeefe/opt/anaconda3/lib/python3.9/site-packages (from html5lib>=1.1->yfinance) (0.5.1)\n",
      "Requirement already satisfied: python-dateutil>=2.8.1 in /Users/colbykeefe/opt/anaconda3/lib/python3.9/site-packages (from pandas>=1.3.0->yfinance) (2.8.2)\n",
      "Requirement already satisfied: idna<4,>=2.5 in /Users/colbykeefe/opt/anaconda3/lib/python3.9/site-packages (from requests>=2.26->yfinance) (3.3)\n",
      "Requirement already satisfied: charset-normalizer~=2.0.0 in /Users/colbykeefe/opt/anaconda3/lib/python3.9/site-packages (from requests>=2.26->yfinance) (2.0.4)\n",
      "Requirement already satisfied: urllib3<1.27,>=1.21.1 in /Users/colbykeefe/opt/anaconda3/lib/python3.9/site-packages (from requests>=2.26->yfinance) (1.26.9)\n",
      "Requirement already satisfied: certifi>=2017.4.17 in /Users/colbykeefe/opt/anaconda3/lib/python3.9/site-packages (from requests>=2.26->yfinance) (2022.12.7)\n"
     ]
    }
   ],
   "source": [
    "import numpy as np\n",
    "import pandas as pd\n",
    "import matplotlib.pyplot as plt\n",
    "import datetime as dt\n",
    "from datetime import datetime\n",
    "import statsmodels.api as sm\n",
    "import statsmodels.formula.api as smf\n",
    "import scipy.optimize as sco\n",
    "!pip install yfinance\n",
    "import yfinance as yf"
   ]
  },
  {
   "cell_type": "code",
   "execution_count": 22,
   "id": "161d3682",
   "metadata": {},
   "outputs": [
    {
     "name": "stdout",
     "output_type": "stream",
     "text": [
      "[*********************100%***********************]  9 of 9 completed\n"
     ]
    },
    {
     "data": {
      "text/html": [
       "<div>\n",
       "<style scoped>\n",
       "    .dataframe tbody tr th:only-of-type {\n",
       "        vertical-align: middle;\n",
       "    }\n",
       "\n",
       "    .dataframe tbody tr th {\n",
       "        vertical-align: top;\n",
       "    }\n",
       "\n",
       "    .dataframe thead th {\n",
       "        text-align: right;\n",
       "    }\n",
       "</style>\n",
       "<table border=\"1\" class=\"dataframe\">\n",
       "  <thead>\n",
       "    <tr style=\"text-align: right;\">\n",
       "      <th></th>\n",
       "      <th>ABT</th>\n",
       "      <th>ACN</th>\n",
       "      <th>BTC-USD</th>\n",
       "      <th>COKE</th>\n",
       "      <th>HD</th>\n",
       "      <th>SNPS</th>\n",
       "      <th>SQ</th>\n",
       "      <th>TIP</th>\n",
       "      <th>WMT</th>\n",
       "    </tr>\n",
       "    <tr>\n",
       "      <th>Date</th>\n",
       "      <th></th>\n",
       "      <th></th>\n",
       "      <th></th>\n",
       "      <th></th>\n",
       "      <th></th>\n",
       "      <th></th>\n",
       "      <th></th>\n",
       "      <th></th>\n",
       "      <th></th>\n",
       "    </tr>\n",
       "  </thead>\n",
       "  <tbody>\n",
       "    <tr>\n",
       "      <th>2010-01-04</th>\n",
       "      <td>19.433037</td>\n",
       "      <td>32.836594</td>\n",
       "      <td>NaN</td>\n",
       "      <td>47.322105</td>\n",
       "      <td>21.122955</td>\n",
       "      <td>22.440001</td>\n",
       "      <td>NaN</td>\n",
       "      <td>75.740128</td>\n",
       "      <td>40.329685</td>\n",
       "    </tr>\n",
       "    <tr>\n",
       "      <th>2010-01-05</th>\n",
       "      <td>19.276031</td>\n",
       "      <td>33.039536</td>\n",
       "      <td>NaN</td>\n",
       "      <td>46.130005</td>\n",
       "      <td>21.277676</td>\n",
       "      <td>22.250000</td>\n",
       "      <td>NaN</td>\n",
       "      <td>75.987366</td>\n",
       "      <td>39.928101</td>\n",
       "    </tr>\n",
       "    <tr>\n",
       "      <th>2010-01-06</th>\n",
       "      <td>19.383080</td>\n",
       "      <td>33.390762</td>\n",
       "      <td>NaN</td>\n",
       "      <td>46.315437</td>\n",
       "      <td>21.204000</td>\n",
       "      <td>22.209999</td>\n",
       "      <td>NaN</td>\n",
       "      <td>75.791061</td>\n",
       "      <td>39.838856</td>\n",
       "    </tr>\n",
       "    <tr>\n",
       "      <th>2010-01-07</th>\n",
       "      <td>19.543655</td>\n",
       "      <td>33.359550</td>\n",
       "      <td>NaN</td>\n",
       "      <td>45.679653</td>\n",
       "      <td>21.454493</td>\n",
       "      <td>22.150000</td>\n",
       "      <td>NaN</td>\n",
       "      <td>75.907402</td>\n",
       "      <td>39.861168</td>\n",
       "    </tr>\n",
       "    <tr>\n",
       "      <th>2010-01-08</th>\n",
       "      <td>19.643574</td>\n",
       "      <td>33.226852</td>\n",
       "      <td>NaN</td>\n",
       "      <td>45.476551</td>\n",
       "      <td>21.351358</td>\n",
       "      <td>22.309999</td>\n",
       "      <td>NaN</td>\n",
       "      <td>76.067337</td>\n",
       "      <td>39.660374</td>\n",
       "    </tr>\n",
       "    <tr>\n",
       "      <th>...</th>\n",
       "      <td>...</td>\n",
       "      <td>...</td>\n",
       "      <td>...</td>\n",
       "      <td>...</td>\n",
       "      <td>...</td>\n",
       "      <td>...</td>\n",
       "      <td>...</td>\n",
       "      <td>...</td>\n",
       "      <td>...</td>\n",
       "    </tr>\n",
       "    <tr>\n",
       "      <th>2023-02-20</th>\n",
       "      <td>NaN</td>\n",
       "      <td>NaN</td>\n",
       "      <td>24829.148438</td>\n",
       "      <td>NaN</td>\n",
       "      <td>NaN</td>\n",
       "      <td>NaN</td>\n",
       "      <td>NaN</td>\n",
       "      <td>NaN</td>\n",
       "      <td>NaN</td>\n",
       "    </tr>\n",
       "    <tr>\n",
       "      <th>2023-02-21</th>\n",
       "      <td>103.650002</td>\n",
       "      <td>269.149994</td>\n",
       "      <td>24436.353516</td>\n",
       "      <td>519.150024</td>\n",
       "      <td>295.500000</td>\n",
       "      <td>352.350006</td>\n",
       "      <td>71.949997</td>\n",
       "      <td>106.970001</td>\n",
       "      <td>147.330002</td>\n",
       "    </tr>\n",
       "    <tr>\n",
       "      <th>2023-02-22</th>\n",
       "      <td>102.690002</td>\n",
       "      <td>269.630005</td>\n",
       "      <td>24188.843750</td>\n",
       "      <td>520.000000</td>\n",
       "      <td>296.299988</td>\n",
       "      <td>355.059998</td>\n",
       "      <td>72.940002</td>\n",
       "      <td>106.910004</td>\n",
       "      <td>144.240005</td>\n",
       "    </tr>\n",
       "    <tr>\n",
       "      <th>2023-02-23</th>\n",
       "      <td>102.550003</td>\n",
       "      <td>271.230011</td>\n",
       "      <td>23947.492188</td>\n",
       "      <td>570.900024</td>\n",
       "      <td>299.309998</td>\n",
       "      <td>365.480011</td>\n",
       "      <td>74.150002</td>\n",
       "      <td>107.260002</td>\n",
       "      <td>142.089996</td>\n",
       "    </tr>\n",
       "    <tr>\n",
       "      <th>2023-02-24</th>\n",
       "      <td>100.459999</td>\n",
       "      <td>266.529999</td>\n",
       "      <td>23198.126953</td>\n",
       "      <td>564.729980</td>\n",
       "      <td>296.660004</td>\n",
       "      <td>362.279999</td>\n",
       "      <td>77.360001</td>\n",
       "      <td>106.559998</td>\n",
       "      <td>142.470001</td>\n",
       "    </tr>\n",
       "  </tbody>\n",
       "</table>\n",
       "<p>4267 rows × 9 columns</p>\n",
       "</div>"
      ],
      "text/plain": [
       "                   ABT         ACN       BTC-USD        COKE          HD  \\\n",
       "Date                                                                       \n",
       "2010-01-04   19.433037   32.836594           NaN   47.322105   21.122955   \n",
       "2010-01-05   19.276031   33.039536           NaN   46.130005   21.277676   \n",
       "2010-01-06   19.383080   33.390762           NaN   46.315437   21.204000   \n",
       "2010-01-07   19.543655   33.359550           NaN   45.679653   21.454493   \n",
       "2010-01-08   19.643574   33.226852           NaN   45.476551   21.351358   \n",
       "...                ...         ...           ...         ...         ...   \n",
       "2023-02-20         NaN         NaN  24829.148438         NaN         NaN   \n",
       "2023-02-21  103.650002  269.149994  24436.353516  519.150024  295.500000   \n",
       "2023-02-22  102.690002  269.630005  24188.843750  520.000000  296.299988   \n",
       "2023-02-23  102.550003  271.230011  23947.492188  570.900024  299.309998   \n",
       "2023-02-24  100.459999  266.529999  23198.126953  564.729980  296.660004   \n",
       "\n",
       "                  SNPS         SQ         TIP         WMT  \n",
       "Date                                                       \n",
       "2010-01-04   22.440001        NaN   75.740128   40.329685  \n",
       "2010-01-05   22.250000        NaN   75.987366   39.928101  \n",
       "2010-01-06   22.209999        NaN   75.791061   39.838856  \n",
       "2010-01-07   22.150000        NaN   75.907402   39.861168  \n",
       "2010-01-08   22.309999        NaN   76.067337   39.660374  \n",
       "...                ...        ...         ...         ...  \n",
       "2023-02-20         NaN        NaN         NaN         NaN  \n",
       "2023-02-21  352.350006  71.949997  106.970001  147.330002  \n",
       "2023-02-22  355.059998  72.940002  106.910004  144.240005  \n",
       "2023-02-23  365.480011  74.150002  107.260002  142.089996  \n",
       "2023-02-24  362.279999  77.360001  106.559998  142.470001  \n",
       "\n",
       "[4267 rows x 9 columns]"
      ]
     },
     "execution_count": 22,
     "metadata": {},
     "output_type": "execute_result"
    }
   ],
   "source": [
    "tickerSymbol = ['WMT', 'HD', 'ABT', 'SNPS', 'ACN', 'BTC-USD', 'TIP', 'COKE', 'SQ']\n",
    "\n",
    "start_date = '2010-01-01'\n",
    "end_date = '2023-02-25'\n",
    "\n",
    "data = yf.download(tickerSymbol, start=start_date, end=end_date)['Adj Close']\n",
    "data"
   ]
  },
  {
   "cell_type": "code",
   "execution_count": 23,
   "id": "6f87c1af",
   "metadata": {},
   "outputs": [],
   "source": [
    "data=data.astype('float64')"
   ]
  },
  {
   "cell_type": "code",
   "execution_count": 24,
   "id": "5aa940bd",
   "metadata": {},
   "outputs": [
    {
     "data": {
      "text/plain": [
       "ABT         958\n",
       "ACN         958\n",
       "BTC-USD    1184\n",
       "COKE        958\n",
       "HD          958\n",
       "SNPS        958\n",
       "SQ         2439\n",
       "TIP         958\n",
       "WMT         958\n",
       "dtype: int64"
      ]
     },
     "execution_count": 24,
     "metadata": {},
     "output_type": "execute_result"
    }
   ],
   "source": [
    "data.isnull().sum()"
   ]
  },
  {
   "cell_type": "code",
   "execution_count": 25,
   "id": "2868dbd0",
   "metadata": {},
   "outputs": [],
   "source": [
    "rets = np.log(data/ data.shift(1))"
   ]
  },
  {
   "cell_type": "code",
   "execution_count": 26,
   "id": "e4e4b1a5",
   "metadata": {},
   "outputs": [],
   "source": [
    "noa = len(tickerSymbol)\n",
    "weights = np.random.random(noa) # Random portfolio weights\n",
    "weights /= np.sum(weights) # normalized to 1 or 100%\n",
    "\n",
    "def port_ret(weights):\n",
    "    return np.sum(rets.mean() * weights) * 252\n",
    "\n",
    "def port_vol(weights):\n",
    "    return np.sqrt(np.dot(weights.T, np.dot(rets.cov() * 252, weights)))"
   ]
  },
  {
   "cell_type": "code",
   "execution_count": 27,
   "id": "6ad3b7d2",
   "metadata": {},
   "outputs": [],
   "source": [
    "prets = []\n",
    "pvols = []\n",
    "for p in range (2500):\n",
    "    \n",
    "    # Monte Carlo simulation of portfolio weights.\n",
    "    weights = np.random.random(noa)\n",
    "    weights /= np.sum(weights)\n",
    "    \n",
    "    #Collects the resulting statistics in list objects.\n",
    "    prets.append(port_ret(weights))\n",
    "    pvols.append(port_vol(weights))\n",
    "    \n",
    "prets = np.array(prets)\n",
    "pvols = np.array(pvols)"
   ]
  },
  {
   "cell_type": "code",
   "execution_count": 28,
   "id": "bf92c932",
   "metadata": {},
   "outputs": [
    {
     "data": {
      "image/png": "[encoded data removed]",
      "text/plain": [
       "<Figure size 720x432 with 2 Axes>"
      ]
     },
     "metadata": {
      "needs_background": "light"
     },
     "output_type": "display_data"
    }
   ],
   "source": [
    "plt.figure(figsize=(10, 6))\n",
    "plt.scatter(pvols, prets, c=prets / pvols, marker='o', cmap='coolwarm')\n",
    "plt.xlabel('expected volatility')\n",
    "plt.ylabel('expected return')\n",
    "plt.colorbar(label='Sharpe ratio');"
   ]
  },
  {
   "cell_type": "markdown",
   "id": "830933e9",
   "metadata": {},
   "source": [
    "## Maximise the sharpe ratio by minimising the negative sharpe ratio "
   ]
  },
  {
   "cell_type": "code",
   "execution_count": 29,
   "id": "4bd0f949",
   "metadata": {},
   "outputs": [
    {
     "data": {
      "text/plain": [
       "     fun: -1.5888391653985041\n",
       "     jac: array([-8.02591443e-04,  1.24757662e-01, -3.48241627e-03, -1.77226961e-03,\n",
       "        1.88484788e-04, -2.72035599e-04,  3.29065396e+00,  1.99794769e-04,\n",
       "        7.05741450e-01])\n",
       " message: 'Optimization terminated successfully'\n",
       "    nfev: 149\n",
       "     nit: 14\n",
       "    njev: 14\n",
       "  status: 0\n",
       " success: True\n",
       "       x: array([7.51261250e-02, 1.30819834e-15, 1.16878193e-02, 2.18249981e-02,\n",
       "       1.14193450e-01, 7.85579428e-02, 4.80645797e-15, 6.98609665e-01,\n",
       "       2.10991164e-15])"
      ]
     },
     "execution_count": 29,
     "metadata": {},
     "output_type": "execute_result"
    }
   ],
   "source": [
    "# Function to be minimized.\n",
    "def min_func_sharpe(weights):\n",
    "    return -port_ret(weights) / port_vol(weights)\n",
    "\n",
    "# Equality constraint\n",
    "cons = ({'type': 'eq', 'fun': lambda x: np.sum(x) - 1})\n",
    "\n",
    "# Bounds for the parameters.\n",
    "bnds = tuple((0, 1) for x in range(noa))\n",
    "\n",
    "# Equal weights vector.\n",
    "eweights = np.array(noa * [1. / noa,])\n",
    "eweights\n",
    "\n",
    "# The optimization (i.e., minimization of function min_func_sharpe())\n",
    "opts = sco.minimize(min_func_sharpe, eweights, method='SLSQP', bounds=bnds, constraints=cons)\n",
    "\n",
    "# The results from the optimization.\n",
    "opts"
   ]
  },
  {
   "cell_type": "code",
   "execution_count": 30,
   "id": "083c7a65",
   "metadata": {},
   "outputs": [
    {
     "data": {
      "text/plain": [
       "array([0.075, 0.   , 0.012, 0.022, 0.114, 0.079, 0.   , 0.699, 0.   ])"
      ]
     },
     "execution_count": 30,
     "metadata": {},
     "output_type": "execute_result"
    }
   ],
   "source": [
    "# The optimal portfolio weights.\n",
    "opts['x'].round(3)"
   ]
  },
  {
   "cell_type": "markdown",
   "id": "5ad062e6",
   "metadata": {},
   "source": [
    "The most efficient portfolio consists of :\n",
    "ABT - 7.5%\n",
    "ACN - 0%\n",
    "BTC-USD - 1.2%\n",
    "COKE - 2.2%\n",
    "HD - 11.4%\n",
    "SNPS - 7.9%\n",
    "TIP - 69.9%\n",
    "WNT - 0%"
   ]
  },
  {
   "cell_type": "code",
   "execution_count": 33,
   "id": "b659798e",
   "metadata": {},
   "outputs": [
    {
     "data": {
      "text/plain": [
       "0.105"
      ]
     },
     "execution_count": 33,
     "metadata": {},
     "output_type": "execute_result"
    }
   ],
   "source": [
    "# The resulting portfolio return\n",
    "port_ret(opts['x']).round(3)"
   ]
  },
  {
   "cell_type": "code",
   "execution_count": 34,
   "id": "24459141",
   "metadata": {},
   "outputs": [
    {
     "data": {
      "text/plain": [
       "0.066"
      ]
     },
     "execution_count": 34,
     "metadata": {},
     "output_type": "execute_result"
    }
   ],
   "source": [
    "# The resulting portfolio volatility.\n",
    "port_vol(opts['x']).round(3)"
   ]
  },
  {
   "cell_type": "code",
   "execution_count": 35,
   "id": "b437f362",
   "metadata": {},
   "outputs": [
    {
     "data": {
      "text/plain": [
       "1.5888391653985041"
      ]
     },
     "execution_count": 35,
     "metadata": {},
     "output_type": "execute_result"
    }
   ],
   "source": [
    "# The maximum Sharpe ratio.\n",
    "port_ret(opts['x']) / port_vol(opts['x'])"
   ]
  },
  {
   "cell_type": "markdown",
   "id": "6c78af3d",
   "metadata": {},
   "source": [
    "The max sharpe ratio is 1.5 illustrating there are adequite returns for the amount of risk taken on by the portfolio "
   ]
  },
  {
   "cell_type": "code",
   "execution_count": 36,
   "id": "abf87ced",
   "metadata": {},
   "outputs": [
    {
     "data": {
      "text/plain": [
       "<matplotlib.colorbar.Colorbar at 0x7fe70bd0ba90>"
      ]
     },
     "execution_count": 36,
     "metadata": {},
     "output_type": "execute_result"
    },
    {
     "data": {
      "image/png": "[encoded data removed]",
      "text/plain": [
       "<Figure size 720x432 with 2 Axes>"
      ]
     },
     "metadata": {
      "needs_background": "light"
     },
     "output_type": "display_data"
    }
   ],
   "source": [
    "# The two binding constraints for the efficient frontier.\n",
    "cons = ({'type': 'eq', 'fun': lambda x: port_ret(x) - tret}, \n",
    "        {'type': 'eq', 'fun': lambda x: np.sum(x) - 1})\n",
    "\n",
    "bnds = tuple((0, 1) for x in weights)\n",
    "\n",
    "# The minimization of portfolio volatility for different target returns.\n",
    "trets = np.linspace(0.15, 0.38, 100)\n",
    "tvols = []\n",
    "for tret in trets:\n",
    "    res = sco.minimize(port_vol, eweights, method='SLSQP', \n",
    "                       bounds=bnds, constraints=cons)\n",
    "    tvols.append(res['fun'])\n",
    "tvols = np.array(tvols)\n",
    "\n",
    "plt.figure(figsize=(10, 6))\n",
    "plt.scatter(pvols, prets, c=prets / pvols, marker='.', alpha=0.8, cmap='coolwarm')\n",
    "plt.plot(tvols, trets, 'b', lw=4.0)\n",
    "plt.plot(port_vol(opts['x']), port_ret(opts['x']), 'y*', markersize=15.0)\n",
    "plt.xlabel('expected volatility')\n",
    "plt.ylabel('expected return')\n",
    "plt.colorbar(label='Sharpe ratio')"
   ]
  },
  {
   "cell_type": "code",
   "execution_count": null,
   "id": "e2646d6c",
   "metadata": {},
   "outputs": [],
   "source": []
  },
  {
   "cell_type": "code",
   "execution_count": null,
   "id": "8dd46651",
   "metadata": {},
   "outputs": [],
   "source": []
  }
 ],
 "metadata": {
  "kernelspec": {
   "display_name": "Python 3 (ipykernel)",
   "language": "python",
   "name": "python3"
  },
  "language_info": {
   "codemirror_mode": {
    "name": "ipython",
    "version": 3
   },
   "file_extension": ".py",
   "mimetype": "text/x-python",
   "name": "python",
   "nbconvert_exporter": "python",
   "pygments_lexer": "ipython3",
   "version": "3.9.12"
  }
 },
 "nbformat": 4,
 "nbformat_minor": 5
}
